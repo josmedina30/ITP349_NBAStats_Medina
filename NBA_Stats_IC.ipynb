{
  "nbformat": 4,
  "nbformat_minor": 0,
  "metadata": {
    "colab": {
      "provenance": []
    },
    "kernelspec": {
      "name": "python3",
      "display_name": "Python 3"
    },
    "language_info": {
      "name": "python"
    }
  },
  "cells": [
    {
      "cell_type": "code",
      "execution_count": 1,
      "metadata": {
        "id": "pOZ4v4TvWqgs"
      },
      "outputs": [],
      "source": [
        "# PYTHON MODULES\n",
        "# import user-installed modules\n",
        "import pandas as pd\n",
        "import numpy as np\n",
        "import matplotlib.pyplot as plt\n",
        "\n",
        "\n",
        "# pandas options\n",
        "pd.set_option('display.max_rows', 100)"
      ]
    },
    {
      "cell_type": "code",
      "source": [
        "!wget -nc 'https://raw.githubusercontent.com/amyamyjiang/ITP-487/main/nba_game_log_2021_22.csv'"
      ],
      "metadata": {
        "colab": {
          "base_uri": "https://localhost:8080/"
        },
        "id": "ZpPphW_nXs2a",
        "outputId": "2d99dcc0-d619-4c9c-8ba1-412243eec52f"
      },
      "execution_count": 2,
      "outputs": [
        {
          "output_type": "stream",
          "name": "stdout",
          "text": [
            "--2025-04-17 02:06:28--  https://raw.githubusercontent.com/amyamyjiang/ITP-487/main/nba_game_log_2021_22.csv\n",
            "Resolving raw.githubusercontent.com (raw.githubusercontent.com)... 185.199.109.133, 185.199.110.133, 185.199.108.133, ...\n",
            "Connecting to raw.githubusercontent.com (raw.githubusercontent.com)|185.199.109.133|:443... connected.\n",
            "HTTP request sent, awaiting response... 200 OK\n",
            "Length: 13427331 (13M) [text/plain]\n",
            "Saving to: ‘nba_game_log_2021_22.csv’\n",
            "\n",
            "nba_game_log_2021_2 100%[===================>]  12.80M  40.5MB/s    in 0.3s    \n",
            "\n",
            "2025-04-17 02:06:28 (40.5 MB/s) - ‘nba_game_log_2021_22.csv’ saved [13427331/13427331]\n",
            "\n"
          ]
        }
      ]
    },
    {
      "cell_type": "code",
      "source": [
        "nba_player_log = pd.read_csv('nba_game_log_2021_22.csv')\n"
      ],
      "metadata": {
        "id": "HmUIBDdbX2l8"
      },
      "execution_count": 3,
      "outputs": []
    },
    {
      "cell_type": "code",
      "source": [
        "!wget -nc 'https://raw.githubusercontent.com/amyamyjiang/ITP-487/main/nba_salary_2021_22.csv'"
      ],
      "metadata": {
        "colab": {
          "base_uri": "https://localhost:8080/"
        },
        "id": "vOd0Ue_yX3ov",
        "outputId": "13557e71-826d-4306-e94a-796ad64a918a"
      },
      "execution_count": 4,
      "outputs": [
        {
          "output_type": "stream",
          "name": "stdout",
          "text": [
            "--2025-04-17 02:06:30--  https://raw.githubusercontent.com/amyamyjiang/ITP-487/main/nba_salary_2021_22.csv\n",
            "Resolving raw.githubusercontent.com (raw.githubusercontent.com)... 185.199.111.133, 185.199.108.133, 185.199.109.133, ...\n",
            "Connecting to raw.githubusercontent.com (raw.githubusercontent.com)|185.199.111.133|:443... connected.\n",
            "HTTP request sent, awaiting response... 200 OK\n",
            "Length: 26521 (26K) [text/plain]\n",
            "Saving to: ‘nba_salary_2021_22.csv’\n",
            "\n",
            "\rnba_salary_2021_22.   0%[                    ]       0  --.-KB/s               \rnba_salary_2021_22. 100%[===================>]  25.90K  --.-KB/s    in 0.002s  \n",
            "\n",
            "2025-04-17 02:06:30 (11.7 MB/s) - ‘nba_salary_2021_22.csv’ saved [26521/26521]\n",
            "\n"
          ]
        }
      ]
    },
    {
      "cell_type": "code",
      "source": [
        "player_salaries = pd.read_csv('nba_salary_2021_22.csv')"
      ],
      "metadata": {
        "id": "jUvZpMBYYLPJ"
      },
      "execution_count": 5,
      "outputs": []
    },
    {
      "cell_type": "code",
      "source": [
        "# view columns and null counts for each column in the data frames\n",
        "print(nba_player_log.columns)\n",
        "print(nba_player_log.info())\n",
        "print(player_salaries.columns)\n",
        "print(player_salaries.info())"
      ],
      "metadata": {
        "colab": {
          "base_uri": "https://localhost:8080/"
        },
        "id": "0ocsKpjQYXzg",
        "outputId": "c754217a-69c6-49e7-82bb-ef0df42ecb5b"
      },
      "execution_count": 6,
      "outputs": [
        {
          "output_type": "stream",
          "name": "stdout",
          "text": [
            "Index(['game_id', 'game_date', 'OT', 'H_A', 'Team_Abbrev', 'Team_Score',\n",
            "       'Team_pace', 'Team_efg_pct', 'Team_tov_pct', 'Team_orb_pct',\n",
            "       'Team_ft_rate', 'Team_off_rtg', 'Inactives', 'Opponent_Abbrev',\n",
            "       'Opponent_Score', 'Opponent_pace', 'Opponent_efg_pct',\n",
            "       'Opponent_tov_pct', 'Opponent_orb_pct', 'Opponent_ft_rate',\n",
            "       'Opponent_off_rtg', 'player', 'player_id', 'starter', 'mp', 'fg', 'fga',\n",
            "       'fg_pct', 'fg3', 'fg3a', 'fg3_pct', 'ft', 'fta', 'ft_pct', 'orb', 'drb',\n",
            "       'trb', 'ast', 'stl', 'blk', 'tov', 'pf', 'pts', 'plus_minus',\n",
            "       'did_not_play', 'is_inactive', 'ts_pct', 'efg_pct', 'fg3a_per_fga_pct',\n",
            "       'fta_per_fga_pct', 'orb_pct', 'drb_pct', 'trb_pct', 'ast_pct',\n",
            "       'stl_pct', 'blk_pct', 'tov_pct', 'usg_pct', 'off_rtg', 'def_rtg', 'bpm',\n",
            "       'season', 'minutes', 'double_double', 'triple_double', 'DKP', 'FDP',\n",
            "       'SDP', 'DKP_per_minute', 'FDP_per_minute', 'SDP_per_minute',\n",
            "       'pf_per_minute', 'ts', 'last_60_minutes_per_game_starting',\n",
            "       'last_60_minutes_per_game_bench', 'PG%', 'SG%', 'SF%', 'PF%', 'C%',\n",
            "       'active_position_minutes'],\n",
            "      dtype='object')\n",
            "<class 'pandas.core.frame.DataFrame'>\n",
            "RangeIndex: 31608 entries, 0 to 31607\n",
            "Data columns (total 81 columns):\n",
            " #   Column                             Non-Null Count  Dtype  \n",
            "---  ------                             --------------  -----  \n",
            " 0   game_id                            31608 non-null  object \n",
            " 1   game_date                          31608 non-null  object \n",
            " 2   OT                                 31608 non-null  int64  \n",
            " 3   H_A                                31608 non-null  object \n",
            " 4   Team_Abbrev                        31608 non-null  object \n",
            " 5   Team_Score                         31608 non-null  int64  \n",
            " 6   Team_pace                          31608 non-null  float64\n",
            " 7   Team_efg_pct                       31608 non-null  float64\n",
            " 8   Team_tov_pct                       31608 non-null  float64\n",
            " 9   Team_orb_pct                       31608 non-null  float64\n",
            " 10  Team_ft_rate                       31608 non-null  float64\n",
            " 11  Team_off_rtg                       31608 non-null  float64\n",
            " 12  Inactives                          31561 non-null  object \n",
            " 13  Opponent_Abbrev                    31608 non-null  object \n",
            " 14  Opponent_Score                     31608 non-null  int64  \n",
            " 15  Opponent_pace                      31608 non-null  float64\n",
            " 16  Opponent_efg_pct                   31608 non-null  float64\n",
            " 17  Opponent_tov_pct                   31608 non-null  float64\n",
            " 18  Opponent_orb_pct                   31608 non-null  float64\n",
            " 19  Opponent_ft_rate                   31608 non-null  float64\n",
            " 20  Opponent_off_rtg                   31608 non-null  float64\n",
            " 21  player                             31608 non-null  object \n",
            " 22  player_id                          31608 non-null  object \n",
            " 23  starter                            31608 non-null  int64  \n",
            " 24  mp                                 31608 non-null  object \n",
            " 25  fg                                 31608 non-null  int64  \n",
            " 26  fga                                31608 non-null  int64  \n",
            " 27  fg_pct                             31608 non-null  float64\n",
            " 28  fg3                                31608 non-null  int64  \n",
            " 29  fg3a                               31608 non-null  int64  \n",
            " 30  fg3_pct                            31608 non-null  float64\n",
            " 31  ft                                 31608 non-null  int64  \n",
            " 32  fta                                31608 non-null  int64  \n",
            " 33  ft_pct                             31608 non-null  float64\n",
            " 34  orb                                31608 non-null  int64  \n",
            " 35  drb                                31608 non-null  int64  \n",
            " 36  trb                                31608 non-null  int64  \n",
            " 37  ast                                31608 non-null  int64  \n",
            " 38  stl                                31608 non-null  int64  \n",
            " 39  blk                                31608 non-null  int64  \n",
            " 40  tov                                31608 non-null  int64  \n",
            " 41  pf                                 31608 non-null  int64  \n",
            " 42  pts                                31608 non-null  int64  \n",
            " 43  plus_minus                         31608 non-null  int64  \n",
            " 44  did_not_play                       31608 non-null  int64  \n",
            " 45  is_inactive                        31608 non-null  int64  \n",
            " 46  ts_pct                             31608 non-null  float64\n",
            " 47  efg_pct                            31608 non-null  float64\n",
            " 48  fg3a_per_fga_pct                   31608 non-null  float64\n",
            " 49  fta_per_fga_pct                    31608 non-null  float64\n",
            " 50  orb_pct                            31608 non-null  float64\n",
            " 51  drb_pct                            31608 non-null  float64\n",
            " 52  trb_pct                            31608 non-null  float64\n",
            " 53  ast_pct                            31608 non-null  float64\n",
            " 54  stl_pct                            31608 non-null  float64\n",
            " 55  blk_pct                            31608 non-null  float64\n",
            " 56  tov_pct                            31608 non-null  float64\n",
            " 57  usg_pct                            31608 non-null  float64\n",
            " 58  off_rtg                            31608 non-null  int64  \n",
            " 59  def_rtg                            31608 non-null  int64  \n",
            " 60  bpm                                31608 non-null  float64\n",
            " 61  season                             31608 non-null  int64  \n",
            " 62  minutes                            31608 non-null  float64\n",
            " 63  double_double                      31608 non-null  int64  \n",
            " 64  triple_double                      31608 non-null  int64  \n",
            " 65  DKP                                31608 non-null  float64\n",
            " 66  FDP                                31608 non-null  float64\n",
            " 67  SDP                                31608 non-null  float64\n",
            " 68  DKP_per_minute                     26311 non-null  float64\n",
            " 69  FDP_per_minute                     26311 non-null  float64\n",
            " 70  SDP_per_minute                     26311 non-null  float64\n",
            " 71  pf_per_minute                      26311 non-null  float64\n",
            " 72  ts                                 31608 non-null  float64\n",
            " 73  last_60_minutes_per_game_starting  30938 non-null  float64\n",
            " 74  last_60_minutes_per_game_bench     30938 non-null  float64\n",
            " 75  PG%                                31532 non-null  float64\n",
            " 76  SG%                                31532 non-null  float64\n",
            " 77  SF%                                31532 non-null  float64\n",
            " 78  PF%                                31532 non-null  float64\n",
            " 79  C%                                 31532 non-null  float64\n",
            " 80  active_position_minutes            26867 non-null  float64\n",
            "dtypes: float64(45), int64(27), object(9)\n",
            "memory usage: 19.5+ MB\n",
            "None\n",
            "Index(['Player', '2021/22', '2022/23', '2023/24', '2024/25', '2025/26',\n",
            "       '2026/27'],\n",
            "      dtype='object')\n",
            "<class 'pandas.core.frame.DataFrame'>\n",
            "RangeIndex: 649 entries, 0 to 648\n",
            "Data columns (total 7 columns):\n",
            " #   Column   Non-Null Count  Dtype \n",
            "---  ------   --------------  ----- \n",
            " 0   Player   649 non-null    object\n",
            " 1   2021/22  649 non-null    int64 \n",
            " 2   2022/23  649 non-null    int64 \n",
            " 3   2023/24  649 non-null    int64 \n",
            " 4   2024/25  649 non-null    int64 \n",
            " 5   2025/26  649 non-null    int64 \n",
            " 6   2026/27  649 non-null    int64 \n",
            "dtypes: int64(6), object(1)\n",
            "memory usage: 35.6+ KB\n",
            "None\n"
          ]
        }
      ]
    },
    {
      "cell_type": "code",
      "source": [
        "# shape of the data frames\n",
        "\n",
        "# player game log:\n",
        "print(\"NBA player log shape:\")\n",
        "print(nba_player_log.shape)\n",
        "\n",
        "# player salaries\n",
        "print(player_salaries.shape)\n"
      ],
      "metadata": {
        "colab": {
          "base_uri": "https://localhost:8080/"
        },
        "id": "yHUnWlsuYqk5",
        "outputId": "8c3f975f-78b8-4bd9-9d41-694b4b79c584"
      },
      "execution_count": 7,
      "outputs": [
        {
          "output_type": "stream",
          "name": "stdout",
          "text": [
            "NBA player log shape:\n",
            "(31608, 81)\n",
            "(649, 7)\n"
          ]
        }
      ]
    },
    {
      "cell_type": "code",
      "source": [
        "# show first five rows of each data frame\n",
        "# nba player log\n",
        "print(nba_player_log.head())\n",
        "print(\"\\n\")\n",
        "# player salaries\n",
        "print(player_salaries.head())"
      ],
      "metadata": {
        "colab": {
          "base_uri": "https://localhost:8080/"
        },
        "id": "4PiXiFrCY74U",
        "outputId": "09c3a098-dd91-4b0a-d52a-5d08f3252add"
      },
      "execution_count": 8,
      "outputs": [
        {
          "output_type": "stream",
          "name": "stdout",
          "text": [
            "        game_id  game_date  OT H_A Team_Abbrev  Team_Score  Team_pace  \\\n",
            "0  202204100BRK  4/10/2022   0   A         IND         126      103.9   \n",
            "1  202204100BRK  4/10/2022   0   A         IND         126      103.9   \n",
            "2  202204100BRK  4/10/2022   0   A         IND         126      103.9   \n",
            "3  202204100BRK  4/10/2022   0   A         IND         126      103.9   \n",
            "4  202204100BRK  4/10/2022   0   A         IND         126      103.9   \n",
            "\n",
            "   Team_efg_pct  Team_tov_pct  Team_orb_pct  ...  pf_per_minute     ts  \\\n",
            "0         0.543           5.9          20.8  ...       0.000000  14.44   \n",
            "1         0.543           5.9          20.8  ...       0.083604  23.00   \n",
            "2         0.543           5.9          20.8  ...       0.139730  21.76   \n",
            "3         0.543           5.9          20.8  ...       0.156169   4.88   \n",
            "4         0.543           5.9          20.8  ...       0.097192  15.88   \n",
            "\n",
            "  last_60_minutes_per_game_starting last_60_minutes_per_game_bench    PG%  \\\n",
            "0                         36.176282                      19.535428   62.0   \n",
            "1                         35.833974                      19.350580    4.0   \n",
            "2                         30.988194                      16.733827    0.0   \n",
            "3                         22.514103                      14.625000    0.0   \n",
            "4                         25.350000                      15.166667  100.0   \n",
            "\n",
            "    SG%   SF%   PF%    C%  active_position_minutes  \n",
            "0  35.0   4.0   0.0   0.0                64.741860  \n",
            "1  53.0  43.0   1.0   0.0                56.265965  \n",
            "2   0.0  20.0  75.0   5.0                44.631041  \n",
            "3   0.0   0.0  24.0  76.0                53.345389  \n",
            "4   0.0   0.0   0.0   0.0                68.220319  \n",
            "\n",
            "[5 rows x 81 columns]\n",
            "\n",
            "\n",
            "              Player   2021/22   2022/23   2023/24   2024/25   2025/26  \\\n",
            "0      Stephen Curry  45780966  48070014  51915615  55761217  59606817   \n",
            "1          John Wall  44310840  47366760         0         0         0   \n",
            "2       James Harden  44310840  47366760         0         0         0   \n",
            "3  Russell Westbrook  44211146  47063478         0         0         0   \n",
            "4       Kevin Durant  42018900  44119845  47649433  51179020  54708608   \n",
            "\n",
            "   2026/27  \n",
            "0        0  \n",
            "1        0  \n",
            "2        0  \n",
            "3        0  \n",
            "4        0  \n"
          ]
        }
      ]
    },
    {
      "cell_type": "code",
      "source": [
        "# clean player logs\n",
        "top_scorer_df = nba_player_log[['game_id', 'game_date','H_A', 'Team_Abbrev','Opponent_Abbrev','player', 'pts','minutes']]\n",
        "print(top_scorer_df.head())\n",
        "\n",
        "print(\"Player log data: \")\n",
        "print(\"Shape before dropping duplicates and unneeded columns: \")\n",
        "print(nba_player_log.shape)\n",
        "\n",
        "top_scorer_df = top_scorer_df.drop_duplicates()\n",
        "\n",
        "print(\"Shape after dropping duplicates and unneeded columns: \")\n",
        "print(top_scorer_df.shape)\n",
        "\n",
        "\n",
        "# clean player salary data\n",
        "top_salary_df = player_salaries[['Player','2021/22']]\n",
        "print(top_salary_df.head())\n",
        "\n",
        "print(\"Player salary data: \")\n",
        "print(\"Shape before dropping duplicates and unneeded columns: \")\n",
        "print(player_salaries.shape)\n",
        "\n",
        "top_salary_df = top_salary_df.drop_duplicates()\n",
        "\n",
        "print(\"Shape after dropping duplicates and unneeded columns: \")\n",
        "print(top_salary_df.shape)\n"
      ],
      "metadata": {
        "colab": {
          "base_uri": "https://localhost:8080/"
        },
        "id": "Bm4iGtGdZMyX",
        "outputId": "3b7001d4-8f58-4b0c-dbdd-fd774fcaca71"
      },
      "execution_count": 9,
      "outputs": [
        {
          "output_type": "stream",
          "name": "stdout",
          "text": [
            "        game_id  game_date H_A Team_Abbrev Opponent_Abbrev             player  \\\n",
            "0  202204100BRK  4/10/2022   A         IND             BRK  Tyrese Haliburton   \n",
            "1  202204100BRK  4/10/2022   A         IND             BRK        Buddy Hield   \n",
            "2  202204100BRK  4/10/2022   A         IND             BRK     Oshae Brissett   \n",
            "3  202204100BRK  4/10/2022   A         IND             BRK     Isaiah Jackson   \n",
            "4  202204100BRK  4/10/2022   A         IND             BRK     T.J. McConnell   \n",
            "\n",
            "   pts    minutes  \n",
            "0   17  39.466667  \n",
            "1   21  35.883333  \n",
            "2   28  35.783333  \n",
            "3    7  32.016667  \n",
            "4   14  30.866667  \n",
            "Player log data: \n",
            "Shape before dropping duplicates and unneeded columns: \n",
            "(31608, 81)\n",
            "Shape after dropping duplicates and unneeded columns: \n",
            "(31282, 8)\n",
            "              Player   2021/22\n",
            "0      Stephen Curry  45780966\n",
            "1          John Wall  44310840\n",
            "2       James Harden  44310840\n",
            "3  Russell Westbrook  44211146\n",
            "4       Kevin Durant  42018900\n",
            "Player salary data: \n",
            "Shape before dropping duplicates and unneeded columns: \n",
            "(649, 7)\n",
            "Shape after dropping duplicates and unneeded columns: \n",
            "(649, 2)\n"
          ]
        }
      ]
    },
    {
      "cell_type": "code",
      "source": [
        " # use pd.merge() to combine to two datasets, then clean the resulting data frame\n",
        "\n",
        "player_stats_salaries = pd.merge(top_scorer_df,top_salary_df,how='left',left_on='player',right_on='Player')"
      ],
      "metadata": {
        "id": "1AGTS6GJbxZs"
      },
      "execution_count": 10,
      "outputs": []
    },
    {
      "cell_type": "code",
      "source": [
        "player_stats_salaries.shape"
      ],
      "metadata": {
        "colab": {
          "base_uri": "https://localhost:8080/"
        },
        "id": "mTU9uLz2b4kT",
        "outputId": "34c90118-0c29-4b38-9014-32c214104573"
      },
      "execution_count": 11,
      "outputs": [
        {
          "output_type": "execute_result",
          "data": {
            "text/plain": [
              "(31282, 10)"
            ]
          },
          "metadata": {},
          "execution_count": 11
        }
      ]
    },
    {
      "cell_type": "code",
      "source": [
        "player_stats_salaries.info()"
      ],
      "metadata": {
        "colab": {
          "base_uri": "https://localhost:8080/"
        },
        "id": "wN7I_VC9cJ6w",
        "outputId": "50c7645d-aef0-41a8-aabb-b4b702228eba"
      },
      "execution_count": 12,
      "outputs": [
        {
          "output_type": "stream",
          "name": "stdout",
          "text": [
            "<class 'pandas.core.frame.DataFrame'>\n",
            "RangeIndex: 31282 entries, 0 to 31281\n",
            "Data columns (total 10 columns):\n",
            " #   Column           Non-Null Count  Dtype  \n",
            "---  ------           --------------  -----  \n",
            " 0   game_id          31282 non-null  object \n",
            " 1   game_date        31282 non-null  object \n",
            " 2   H_A              31282 non-null  object \n",
            " 3   Team_Abbrev      31282 non-null  object \n",
            " 4   Opponent_Abbrev  31282 non-null  object \n",
            " 5   player           31282 non-null  object \n",
            " 6   pts              31282 non-null  int64  \n",
            " 7   minutes          31282 non-null  float64\n",
            " 8   Player           28218 non-null  object \n",
            " 9   2021/22          28218 non-null  float64\n",
            "dtypes: float64(2), int64(1), object(7)\n",
            "memory usage: 2.4+ MB\n"
          ]
        }
      ]
    },
    {
      "cell_type": "code",
      "source": [
        "# drop null rows with null values\n",
        "player_stats_salaries = player_stats_salaries.dropna(how='any')"
      ],
      "metadata": {
        "id": "WU6gga26cRcB"
      },
      "execution_count": 13,
      "outputs": []
    },
    {
      "cell_type": "code",
      "source": [
        " # rename columns\n",
        "player_stats_salaries = player_stats_salaries.rename(columns={\"2021/22\":\"Salary\", \"H_A\":\"Home_Away\"})\n",
        " # player_stats_salaries.rename(columns={\"2021/22\":\"Salary\", \"H_A\":\"Home_Away\"}, inplace=True)"
      ],
      "metadata": {
        "id": "z4uHK3N6cS5q"
      },
      "execution_count": 14,
      "outputs": []
    },
    {
      "cell_type": "code",
      "source": [
        "player_stats_salaries.head()"
      ],
      "metadata": {
        "colab": {
          "base_uri": "https://localhost:8080/",
          "height": 292
        },
        "id": "5I-_vu69dBaC",
        "outputId": "aa81048f-695d-47bd-c4b8-a0ff9497ebf0"
      },
      "execution_count": 15,
      "outputs": [
        {
          "output_type": "execute_result",
          "data": {
            "text/plain": [
              "        game_id  game_date Home_Away Team_Abbrev Opponent_Abbrev  \\\n",
              "0  202204100BRK  4/10/2022         A         IND             BRK   \n",
              "1  202204100BRK  4/10/2022         A         IND             BRK   \n",
              "2  202204100BRK  4/10/2022         A         IND             BRK   \n",
              "3  202204100BRK  4/10/2022         A         IND             BRK   \n",
              "5  202204100BRK  4/10/2022         A         IND             BRK   \n",
              "\n",
              "              player  pts    minutes             Player      Salary  \n",
              "0  Tyrese Haliburton   17  39.466667  Tyrese Haliburton   4023600.0  \n",
              "1        Buddy Hield   21  35.883333        Buddy Hield  23073234.0  \n",
              "2     Oshae Brissett   28  35.783333     Oshae Brissett   1701593.0  \n",
              "3     Isaiah Jackson    7  32.016667     Isaiah Jackson   2451240.0  \n",
              "5       Terry Taylor   10  23.616667       Terry Taylor    342984.0  "
            ],
            "text/html": [
              "\n",
              "  <div id=\"df-c3900b3a-a4f5-4b57-9d83-90430cd82eab\" class=\"colab-df-container\">\n",
              "    <div>\n",
              "<style scoped>\n",
              "    .dataframe tbody tr th:only-of-type {\n",
              "        vertical-align: middle;\n",
              "    }\n",
              "\n",
              "    .dataframe tbody tr th {\n",
              "        vertical-align: top;\n",
              "    }\n",
              "\n",
              "    .dataframe thead th {\n",
              "        text-align: right;\n",
              "    }\n",
              "</style>\n",
              "<table border=\"1\" class=\"dataframe\">\n",
              "  <thead>\n",
              "    <tr style=\"text-align: right;\">\n",
              "      <th></th>\n",
              "      <th>game_id</th>\n",
              "      <th>game_date</th>\n",
              "      <th>Home_Away</th>\n",
              "      <th>Team_Abbrev</th>\n",
              "      <th>Opponent_Abbrev</th>\n",
              "      <th>player</th>\n",
              "      <th>pts</th>\n",
              "      <th>minutes</th>\n",
              "      <th>Player</th>\n",
              "      <th>Salary</th>\n",
              "    </tr>\n",
              "  </thead>\n",
              "  <tbody>\n",
              "    <tr>\n",
              "      <th>0</th>\n",
              "      <td>202204100BRK</td>\n",
              "      <td>4/10/2022</td>\n",
              "      <td>A</td>\n",
              "      <td>IND</td>\n",
              "      <td>BRK</td>\n",
              "      <td>Tyrese Haliburton</td>\n",
              "      <td>17</td>\n",
              "      <td>39.466667</td>\n",
              "      <td>Tyrese Haliburton</td>\n",
              "      <td>4023600.0</td>\n",
              "    </tr>\n",
              "    <tr>\n",
              "      <th>1</th>\n",
              "      <td>202204100BRK</td>\n",
              "      <td>4/10/2022</td>\n",
              "      <td>A</td>\n",
              "      <td>IND</td>\n",
              "      <td>BRK</td>\n",
              "      <td>Buddy Hield</td>\n",
              "      <td>21</td>\n",
              "      <td>35.883333</td>\n",
              "      <td>Buddy Hield</td>\n",
              "      <td>23073234.0</td>\n",
              "    </tr>\n",
              "    <tr>\n",
              "      <th>2</th>\n",
              "      <td>202204100BRK</td>\n",
              "      <td>4/10/2022</td>\n",
              "      <td>A</td>\n",
              "      <td>IND</td>\n",
              "      <td>BRK</td>\n",
              "      <td>Oshae Brissett</td>\n",
              "      <td>28</td>\n",
              "      <td>35.783333</td>\n",
              "      <td>Oshae Brissett</td>\n",
              "      <td>1701593.0</td>\n",
              "    </tr>\n",
              "    <tr>\n",
              "      <th>3</th>\n",
              "      <td>202204100BRK</td>\n",
              "      <td>4/10/2022</td>\n",
              "      <td>A</td>\n",
              "      <td>IND</td>\n",
              "      <td>BRK</td>\n",
              "      <td>Isaiah Jackson</td>\n",
              "      <td>7</td>\n",
              "      <td>32.016667</td>\n",
              "      <td>Isaiah Jackson</td>\n",
              "      <td>2451240.0</td>\n",
              "    </tr>\n",
              "    <tr>\n",
              "      <th>5</th>\n",
              "      <td>202204100BRK</td>\n",
              "      <td>4/10/2022</td>\n",
              "      <td>A</td>\n",
              "      <td>IND</td>\n",
              "      <td>BRK</td>\n",
              "      <td>Terry Taylor</td>\n",
              "      <td>10</td>\n",
              "      <td>23.616667</td>\n",
              "      <td>Terry Taylor</td>\n",
              "      <td>342984.0</td>\n",
              "    </tr>\n",
              "  </tbody>\n",
              "</table>\n",
              "</div>\n",
              "    <div class=\"colab-df-buttons\">\n",
              "\n",
              "  <div class=\"colab-df-container\">\n",
              "    <button class=\"colab-df-convert\" onclick=\"convertToInteractive('df-c3900b3a-a4f5-4b57-9d83-90430cd82eab')\"\n",
              "            title=\"Convert this dataframe to an interactive table.\"\n",
              "            style=\"display:none;\">\n",
              "\n",
              "  <svg xmlns=\"http://www.w3.org/2000/svg\" height=\"24px\" viewBox=\"0 -960 960 960\">\n",
              "    <path d=\"M120-120v-720h720v720H120Zm60-500h600v-160H180v160Zm220 220h160v-160H400v160Zm0 220h160v-160H400v160ZM180-400h160v-160H180v160Zm440 0h160v-160H620v160ZM180-180h160v-160H180v160Zm440 0h160v-160H620v160Z\"/>\n",
              "  </svg>\n",
              "    </button>\n",
              "\n",
              "  <style>\n",
              "    .colab-df-container {\n",
              "      display:flex;\n",
              "      gap: 12px;\n",
              "    }\n",
              "\n",
              "    .colab-df-convert {\n",
              "      background-color: #E8F0FE;\n",
              "      border: none;\n",
              "      border-radius: 50%;\n",
              "      cursor: pointer;\n",
              "      display: none;\n",
              "      fill: #1967D2;\n",
              "      height: 32px;\n",
              "      padding: 0 0 0 0;\n",
              "      width: 32px;\n",
              "    }\n",
              "\n",
              "    .colab-df-convert:hover {\n",
              "      background-color: #E2EBFA;\n",
              "      box-shadow: 0px 1px 2px rgba(60, 64, 67, 0.3), 0px 1px 3px 1px rgba(60, 64, 67, 0.15);\n",
              "      fill: #174EA6;\n",
              "    }\n",
              "\n",
              "    .colab-df-buttons div {\n",
              "      margin-bottom: 4px;\n",
              "    }\n",
              "\n",
              "    [theme=dark] .colab-df-convert {\n",
              "      background-color: #3B4455;\n",
              "      fill: #D2E3FC;\n",
              "    }\n",
              "\n",
              "    [theme=dark] .colab-df-convert:hover {\n",
              "      background-color: #434B5C;\n",
              "      box-shadow: 0px 1px 3px 1px rgba(0, 0, 0, 0.15);\n",
              "      filter: drop-shadow(0px 1px 2px rgba(0, 0, 0, 0.3));\n",
              "      fill: #FFFFFF;\n",
              "    }\n",
              "  </style>\n",
              "\n",
              "    <script>\n",
              "      const buttonEl =\n",
              "        document.querySelector('#df-c3900b3a-a4f5-4b57-9d83-90430cd82eab button.colab-df-convert');\n",
              "      buttonEl.style.display =\n",
              "        google.colab.kernel.accessAllowed ? 'block' : 'none';\n",
              "\n",
              "      async function convertToInteractive(key) {\n",
              "        const element = document.querySelector('#df-c3900b3a-a4f5-4b57-9d83-90430cd82eab');\n",
              "        const dataTable =\n",
              "          await google.colab.kernel.invokeFunction('convertToInteractive',\n",
              "                                                    [key], {});\n",
              "        if (!dataTable) return;\n",
              "\n",
              "        const docLinkHtml = 'Like what you see? Visit the ' +\n",
              "          '<a target=\"_blank\" href=https://colab.research.google.com/notebooks/data_table.ipynb>data table notebook</a>'\n",
              "          + ' to learn more about interactive tables.';\n",
              "        element.innerHTML = '';\n",
              "        dataTable['output_type'] = 'display_data';\n",
              "        await google.colab.output.renderOutput(dataTable, element);\n",
              "        const docLink = document.createElement('div');\n",
              "        docLink.innerHTML = docLinkHtml;\n",
              "        element.appendChild(docLink);\n",
              "      }\n",
              "    </script>\n",
              "  </div>\n",
              "\n",
              "\n",
              "<div id=\"df-4106a073-fd17-495a-ba6e-89700605432c\">\n",
              "  <button class=\"colab-df-quickchart\" onclick=\"quickchart('df-4106a073-fd17-495a-ba6e-89700605432c')\"\n",
              "            title=\"Suggest charts\"\n",
              "            style=\"display:none;\">\n",
              "\n",
              "<svg xmlns=\"http://www.w3.org/2000/svg\" height=\"24px\"viewBox=\"0 0 24 24\"\n",
              "     width=\"24px\">\n",
              "    <g>\n",
              "        <path d=\"M19 3H5c-1.1 0-2 .9-2 2v14c0 1.1.9 2 2 2h14c1.1 0 2-.9 2-2V5c0-1.1-.9-2-2-2zM9 17H7v-7h2v7zm4 0h-2V7h2v10zm4 0h-2v-4h2v4z\"/>\n",
              "    </g>\n",
              "</svg>\n",
              "  </button>\n",
              "\n",
              "<style>\n",
              "  .colab-df-quickchart {\n",
              "      --bg-color: #E8F0FE;\n",
              "      --fill-color: #1967D2;\n",
              "      --hover-bg-color: #E2EBFA;\n",
              "      --hover-fill-color: #174EA6;\n",
              "      --disabled-fill-color: #AAA;\n",
              "      --disabled-bg-color: #DDD;\n",
              "  }\n",
              "\n",
              "  [theme=dark] .colab-df-quickchart {\n",
              "      --bg-color: #3B4455;\n",
              "      --fill-color: #D2E3FC;\n",
              "      --hover-bg-color: #434B5C;\n",
              "      --hover-fill-color: #FFFFFF;\n",
              "      --disabled-bg-color: #3B4455;\n",
              "      --disabled-fill-color: #666;\n",
              "  }\n",
              "\n",
              "  .colab-df-quickchart {\n",
              "    background-color: var(--bg-color);\n",
              "    border: none;\n",
              "    border-radius: 50%;\n",
              "    cursor: pointer;\n",
              "    display: none;\n",
              "    fill: var(--fill-color);\n",
              "    height: 32px;\n",
              "    padding: 0;\n",
              "    width: 32px;\n",
              "  }\n",
              "\n",
              "  .colab-df-quickchart:hover {\n",
              "    background-color: var(--hover-bg-color);\n",
              "    box-shadow: 0 1px 2px rgba(60, 64, 67, 0.3), 0 1px 3px 1px rgba(60, 64, 67, 0.15);\n",
              "    fill: var(--button-hover-fill-color);\n",
              "  }\n",
              "\n",
              "  .colab-df-quickchart-complete:disabled,\n",
              "  .colab-df-quickchart-complete:disabled:hover {\n",
              "    background-color: var(--disabled-bg-color);\n",
              "    fill: var(--disabled-fill-color);\n",
              "    box-shadow: none;\n",
              "  }\n",
              "\n",
              "  .colab-df-spinner {\n",
              "    border: 2px solid var(--fill-color);\n",
              "    border-color: transparent;\n",
              "    border-bottom-color: var(--fill-color);\n",
              "    animation:\n",
              "      spin 1s steps(1) infinite;\n",
              "  }\n",
              "\n",
              "  @keyframes spin {\n",
              "    0% {\n",
              "      border-color: transparent;\n",
              "      border-bottom-color: var(--fill-color);\n",
              "      border-left-color: var(--fill-color);\n",
              "    }\n",
              "    20% {\n",
              "      border-color: transparent;\n",
              "      border-left-color: var(--fill-color);\n",
              "      border-top-color: var(--fill-color);\n",
              "    }\n",
              "    30% {\n",
              "      border-color: transparent;\n",
              "      border-left-color: var(--fill-color);\n",
              "      border-top-color: var(--fill-color);\n",
              "      border-right-color: var(--fill-color);\n",
              "    }\n",
              "    40% {\n",
              "      border-color: transparent;\n",
              "      border-right-color: var(--fill-color);\n",
              "      border-top-color: var(--fill-color);\n",
              "    }\n",
              "    60% {\n",
              "      border-color: transparent;\n",
              "      border-right-color: var(--fill-color);\n",
              "    }\n",
              "    80% {\n",
              "      border-color: transparent;\n",
              "      border-right-color: var(--fill-color);\n",
              "      border-bottom-color: var(--fill-color);\n",
              "    }\n",
              "    90% {\n",
              "      border-color: transparent;\n",
              "      border-bottom-color: var(--fill-color);\n",
              "    }\n",
              "  }\n",
              "</style>\n",
              "\n",
              "  <script>\n",
              "    async function quickchart(key) {\n",
              "      const quickchartButtonEl =\n",
              "        document.querySelector('#' + key + ' button');\n",
              "      quickchartButtonEl.disabled = true;  // To prevent multiple clicks.\n",
              "      quickchartButtonEl.classList.add('colab-df-spinner');\n",
              "      try {\n",
              "        const charts = await google.colab.kernel.invokeFunction(\n",
              "            'suggestCharts', [key], {});\n",
              "      } catch (error) {\n",
              "        console.error('Error during call to suggestCharts:', error);\n",
              "      }\n",
              "      quickchartButtonEl.classList.remove('colab-df-spinner');\n",
              "      quickchartButtonEl.classList.add('colab-df-quickchart-complete');\n",
              "    }\n",
              "    (() => {\n",
              "      let quickchartButtonEl =\n",
              "        document.querySelector('#df-4106a073-fd17-495a-ba6e-89700605432c button');\n",
              "      quickchartButtonEl.style.display =\n",
              "        google.colab.kernel.accessAllowed ? 'block' : 'none';\n",
              "    })();\n",
              "  </script>\n",
              "</div>\n",
              "\n",
              "    </div>\n",
              "  </div>\n"
            ],
            "application/vnd.google.colaboratory.intrinsic+json": {
              "type": "dataframe",
              "variable_name": "player_stats_salaries",
              "summary": "{\n  \"name\": \"player_stats_salaries\",\n  \"rows\": 28218,\n  \"fields\": [\n    {\n      \"column\": \"game_id\",\n      \"properties\": {\n        \"dtype\": \"category\",\n        \"num_unique_values\": 1230,\n        \"samples\": [\n          \"202111070OKC\",\n          \"202203300NYK\",\n          \"202201310CLE\"\n        ],\n        \"semantic_type\": \"\",\n        \"description\": \"\"\n      }\n    },\n    {\n      \"column\": \"game_date\",\n      \"properties\": {\n        \"dtype\": \"object\",\n        \"num_unique_values\": 165,\n        \"samples\": [\n          \"12/5/2021\",\n          \"1/8/2022\",\n          \"3/15/2022\"\n        ],\n        \"semantic_type\": \"\",\n        \"description\": \"\"\n      }\n    },\n    {\n      \"column\": \"Home_Away\",\n      \"properties\": {\n        \"dtype\": \"category\",\n        \"num_unique_values\": 2,\n        \"samples\": [\n          \"H\",\n          \"A\"\n        ],\n        \"semantic_type\": \"\",\n        \"description\": \"\"\n      }\n    },\n    {\n      \"column\": \"Team_Abbrev\",\n      \"properties\": {\n        \"dtype\": \"category\",\n        \"num_unique_values\": 30,\n        \"samples\": [\n          \"PHO\",\n          \"MEM\"\n        ],\n        \"semantic_type\": \"\",\n        \"description\": \"\"\n      }\n    },\n    {\n      \"column\": \"Opponent_Abbrev\",\n      \"properties\": {\n        \"dtype\": \"category\",\n        \"num_unique_values\": 30,\n        \"samples\": [\n          \"SAC\",\n          \"BOS\"\n        ],\n        \"semantic_type\": \"\",\n        \"description\": \"\"\n      }\n    },\n    {\n      \"column\": \"player\",\n      \"properties\": {\n        \"dtype\": \"category\",\n        \"num_unique_values\": 557,\n        \"samples\": [\n          \"Jaylen Brown\",\n          \"Mike Muscala\"\n        ],\n        \"semantic_type\": \"\",\n        \"description\": \"\"\n      }\n    },\n    {\n      \"column\": \"pts\",\n      \"properties\": {\n        \"dtype\": \"number\",\n        \"std\": 8,\n        \"min\": 0,\n        \"max\": 60,\n        \"num_unique_values\": 58,\n        \"samples\": [\n          17,\n          0\n        ],\n        \"semantic_type\": \"\",\n        \"description\": \"\"\n      }\n    },\n    {\n      \"column\": \"minutes\",\n      \"properties\": {\n        \"dtype\": \"number\",\n        \"std\": 13.012756582277051,\n        \"min\": 0.0,\n        \"max\": 56.51666667,\n        \"num_unique_values\": 2677,\n        \"samples\": [\n          20.76666667,\n          16.81666667\n        ],\n        \"semantic_type\": \"\",\n        \"description\": \"\"\n      }\n    },\n    {\n      \"column\": \"Player\",\n      \"properties\": {\n        \"dtype\": \"category\",\n        \"num_unique_values\": 557,\n        \"samples\": [\n          \"Jaylen Brown\",\n          \"Mike Muscala\"\n        ],\n        \"semantic_type\": \"\",\n        \"description\": \"\"\n      }\n    },\n    {\n      \"column\": \"Salary\",\n      \"properties\": {\n        \"dtype\": \"number\",\n        \"std\": 9608012.930615654,\n        \"min\": 53176.0,\n        \"max\": 45780966.0,\n        \"num_unique_values\": 377,\n        \"samples\": [\n          44211146.0,\n          5228264.0\n        ],\n        \"semantic_type\": \"\",\n        \"description\": \"\"\n      }\n    }\n  ]\n}"
            }
          },
          "metadata": {},
          "execution_count": 15
        }
      ]
    },
    {
      "cell_type": "code",
      "source": [
        "player_stats_salaries.shape"
      ],
      "metadata": {
        "colab": {
          "base_uri": "https://localhost:8080/"
        },
        "id": "gj_MrIBjdSX_",
        "outputId": "52b3ca1c-052e-4fe2-8638-31a3c83b6b30"
      },
      "execution_count": 16,
      "outputs": [
        {
          "output_type": "execute_result",
          "data": {
            "text/plain": [
              "(28218, 10)"
            ]
          },
          "metadata": {},
          "execution_count": 16
        }
      ]
    },
    {
      "cell_type": "code",
      "source": [
        "# this is an example that could help you start analyzing the dataset\n",
        "player_season_stats = player_stats_salaries[['player', 'pts', 'minutes', 'Salary']]\n",
        "player_season_stats = player_stats_salaries.groupby(by=['Player'], as_index=False).agg({'pts':'sum', 'minutes':'sum', 'Salary':'mean'})\n",
        "\n",
        "\n",
        "player_season_stats['PPG/$'] = player_season_stats['pts']/player_season_stats['Salary']\n",
        "\n",
        "\n",
        "player_season_stats = player_season_stats.sort_values(by=['PPG/$'], ascending=False)\n",
        "print(player_season_stats.head())\n"
      ],
      "metadata": {
        "colab": {
          "base_uri": "https://localhost:8080/"
        },
        "id": "irxGZAmXdokC",
        "outputId": "7699c459-c324-44ce-d400-99ca90a7858b"
      },
      "execution_count": 17,
      "outputs": [
        {
          "output_type": "stream",
          "name": "stdout",
          "text": [
            "               Player  pts      minutes    Salary     PPG/$\n",
            "52   Brandon Williams  309   639.700000  180798.0  0.001709\n",
            "355  Lindy Waters III  199   465.183333  159527.0  0.001247\n",
            "19        Amir Coffey  619  1567.250000  573576.0  0.001079\n",
            "451      Reggie Perry   92   187.266667   85578.0  0.001075\n",
            "257      Jaylen Hoard  103   239.566667   95930.0  0.001074\n"
          ]
        }
      ]
    }
  ]
}